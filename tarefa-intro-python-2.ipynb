{
 "cells": [
  {
   "cell_type": "markdown",
   "metadata": {},
   "source": [
    "**Course website**: http://www.leouieda.com/matematica-especial\n",
    "\n",
    "**Note**: This notebook is part of the course \"Matemática Especial I\" of the [Universidade do Estado do Rio de Janeiro](http://www.uerj.br/). All content can be freely used and adapted under the terms of the \n",
    "[Creative Commons Attribution 4.0 International License](http://creativecommons.org/licenses/by/4.0/).\n",
    "\n",
    "![Creative Commons License](https://i.creativecommons.org/l/by/4.0/88x31.png)"
   ]
  },
  {
   "cell_type": "markdown",
   "metadata": {},
   "source": [
    "# Tarefas de Python II"
   ]
  },
  {
   "cell_type": "markdown",
   "metadata": {},
   "source": [
    "Nessas tarefas, vocês vão praticar os conceitos de programação em Python que aprenderam na prática passada. Além disso, vão aprender algumas coisas novas, como ler dados de arquivos.\n",
    "\n",
    "Algumas células de código estarão preenchidas. Essas células são exemplos ou códigos que devem ser rodados para verificar se seu resultado está de acordo com o esperado."
   ]
  },
  {
   "cell_type": "markdown",
   "metadata": {},
   "source": [
    "## Leitura recomendada\n",
    "\n",
    "O material da lição \"Programming with Python\" versão 4 do\n",
    "[Software Carpentry](http://software-carpentry.org/).\n",
    "Particularmente:\n",
    "\n",
    "* Lists\n",
    "* Input and Output\n",
    "* Strings"
   ]
  },
  {
   "cell_type": "markdown",
   "metadata": {},
   "source": [
    "## Listas\n",
    "\n",
    "Vocês tiveram um contato limitado com listas antes. Agora, vamos aprender como fazer coisas mais sofisticadas com listas, como adicionar valores, fazer uma cópia, e utilizar a lista no `for`.\n",
    "\n",
    "Primeiro, vamos criar uma lista para testarmos."
   ]
  },
  {
   "cell_type": "code",
   "execution_count": 1,
   "metadata": {
    "collapsed": true
   },
   "outputs": [],
   "source": [
    "lista = [42, 21, 14, 7, 29]"
   ]
  },
  {
   "cell_type": "markdown",
   "metadata": {},
   "source": [
    "Você pode perguntar o número de elementos que existem em uma lista utilizando a função `len` (muito melhor que contar os elementos na mão)."
   ]
  },
  {
   "cell_type": "code",
   "execution_count": 2,
   "metadata": {
    "collapsed": false
   },
   "outputs": [
    {
     "name": "stdout",
     "output_type": "stream",
     "text": [
      "5\n"
     ]
    }
   ],
   "source": [
    "N = len(lista)\n",
    "print(N)"
   ]
  },
  {
   "cell_type": "markdown",
   "metadata": {},
   "source": [
    "Outra coisa que podemos fazer é adicionar coisas a nossa lista utilizando o método `append`. \n",
    "\n",
    "**Nota**: \"funções\" são coisa como `print`, `len` e `range` que são executadas com `()` e produzem algo. \"Métodos\" são funções que operam em uma determinada variável e a alteram, como `append` e `format`."
   ]
  },
  {
   "cell_type": "code",
   "execution_count": 3,
   "metadata": {
    "collapsed": true
   },
   "outputs": [],
   "source": [
    "outra_lista = []\n"
   ]
  },
  {
   "cell_type": "code",
   "execution_count": 4,
   "metadata": {
    "collapsed": true
   },
   "outputs": [],
   "source": [
    "outra_lista.append(10)"
   ]
  },
  {
   "cell_type": "code",
   "execution_count": 5,
   "metadata": {
    "collapsed": false
   },
   "outputs": [
    {
     "name": "stdout",
     "output_type": "stream",
     "text": [
      "[10]\n"
     ]
    }
   ],
   "source": [
    "print(outra_lista)"
   ]
  },
  {
   "cell_type": "markdown",
   "metadata": {},
   "source": [
    "Experimente adicionar elementos a `lista` (utilize a célula vazia abaixo; isso não é uma tarefa ainda)."
   ]
  },
  {
   "cell_type": "code",
   "execution_count": 6,
   "metadata": {
    "collapsed": true
   },
   "outputs": [],
   "source": [
    "lista.append(3)"
   ]
  },
  {
   "cell_type": "code",
   "execution_count": 7,
   "metadata": {
    "collapsed": false
   },
   "outputs": [
    {
     "name": "stdout",
     "output_type": "stream",
     "text": [
      "[42, 21, 14, 7, 29, 3]\n"
     ]
    }
   ],
   "source": [
    "print(lista)"
   ]
  },
  {
   "cell_type": "markdown",
   "metadata": {},
   "source": [
    "Até agora, vocês viram o `for` utilizado somente em conjunto com a função `range`, por exemplo:\n",
    "\n",
    "    for i in range(10):\n",
    "        print(i)\n",
    "\n",
    "Essa é uma parte de como o `for` realmente opera. Na realidade, o `for` itera sobre *elementos de uma lista*. Qualquer lista. O `i` no exemplo acima é uma variável como qualquer outra e pode ter o nome que você quiser. \n",
    "\n",
    "Por exemplo, para iterar sobre os elementos de nossa `lista`:"
   ]
  },
  {
   "cell_type": "code",
   "execution_count": 8,
   "metadata": {
    "collapsed": false
   },
   "outputs": [
    {
     "name": "stdout",
     "output_type": "stream",
     "text": [
      "('valor ==', 42)\n",
      "('valor ==', 21)\n",
      "('valor ==', 14)\n",
      "('valor ==', 7)\n",
      "('valor ==', 29)\n",
      "('valor ==', 3)\n"
     ]
    }
   ],
   "source": [
    "for valor in lista:\n",
    "    print(\"valor ==\", valor)"
   ]
  },
  {
   "cell_type": "markdown",
   "metadata": {},
   "source": [
    "## Lendo dados de arquivos\n",
    "\n",
    "No mundo real, vocês precisarão rotineiramente trabalhar com dados que estão salvos em arquivos. Um formato muito utilizando é o CSV (Comma Separated Values). Nas tarefas dessa prática, vocês terão que analisar os dados do arquivo `dados.csv` que está junto no repositório. Abra esse arquivo em um editor de texto (Notepad++ ou SublimeText) para ver como é o arquivo. A primeira coluna do arquivo representa a hora do dia (de 0 a 24) e a segunda coluna representa um dado fictício de temperatura.\n",
    "\n",
    "Precisamos carregar esses dados para duas listas (uma para as horas e outra para as temperaturas) para podermos trabalhar com eles no Python. Para abrir um arquivo para leitura, utilize a função `open` do Python. Por exemplo: "
   ]
  },
  {
   "cell_type": "code",
   "execution_count": 9,
   "metadata": {
    "collapsed": true
   },
   "outputs": [],
   "source": [
    "arquivo = open('dados.csv')"
   ]
  },
  {
   "cell_type": "markdown",
   "metadata": {},
   "source": [
    "A variável produzida por `open` possui alguns métodos para acessar o conteúdo do arquivo em formato de texto (strings).\n",
    "Um desses métodos é o `readline`. Esse método lê a próxima linha do arquivo e a retorna como texto. Por exemplo:"
   ]
  },
  {
   "cell_type": "code",
   "execution_count": 19,
   "metadata": {
    "collapsed": false
   },
   "outputs": [
    {
     "name": "stdout",
     "output_type": "stream",
     "text": [
      "0.3, 1.1238251\n",
      "\n"
     ]
    }
   ],
   "source": [
    "linha = arquivo.readline()\n",
    "print(linha)"
   ]
  },
  {
   "cell_type": "markdown",
   "metadata": {},
   "source": [
    "Rode a célula acima novamente e veja o que acontece.\n"
   ]
  },
  {
   "cell_type": "markdown",
   "metadata": {},
   "source": [
    "Quanto terminamos de utilizar o arquivo, devemos fechá-lo (como as figuras)."
   ]
  },
  {
   "cell_type": "code",
   "execution_count": 20,
   "metadata": {
    "collapsed": true
   },
   "outputs": [],
   "source": [
    "arquivo.close()"
   ]
  },
  {
   "cell_type": "markdown",
   "metadata": {},
   "source": [
    "Uma vez obtida a linha em formato de texto, precisamo separar os dois valores. Os objetos de texto (strings) possuem diversos métodos para trabalharmos com eles. Um desses vocês já conhecem, o método `format`. Para ver uma lista dos métodos disponíveis, digite na célula abaixo `linha.` e aperte a tecla TAB."
   ]
  },
  {
   "cell_type": "code",
   "execution_count": 41,
   "metadata": {
    "collapsed": false
   },
   "outputs": [
    {
     "name": "stdout",
     "output_type": "stream",
     "text": [
      "['0.3', ' 1.1238251\\n']\n"
     ]
    }
   ],
   "source": [
    "texto2 =linha.split(',')\n",
    "print(texto2)"
   ]
  },
  {
   "cell_type": "markdown",
   "metadata": {},
   "source": [
    "O método que queremos chama-se `split`. Ele faz exatamente o que o nome diz: quebra uma string em várias. O argumento que é passado para ele é o texto que separa os diversos blocos. Por exemplo:"
   ]
  },
  {
   "cell_type": "code",
   "execution_count": 22,
   "metadata": {
    "collapsed": false
   },
   "outputs": [
    {
     "name": "stdout",
     "output_type": "stream",
     "text": [
      "['Texto', 'separado', 'por', 'interrogacoes']\n"
     ]
    }
   ],
   "source": [
    "texto = \"Texto ? separado ? por ? interrogacoes\"\n",
    "blocos = texto.split(' ? ')\n",
    "print(blocos)"
   ]
  },
  {
   "cell_type": "markdown",
   "metadata": {},
   "source": [
    "Note que o resultado produzido por `split` é uma lista."
   ]
  },
  {
   "cell_type": "code",
   "execution_count": 23,
   "metadata": {
    "collapsed": false
   },
   "outputs": [
    {
     "data": {
      "text/plain": [
       "'Texto'"
      ]
     },
     "execution_count": 23,
     "metadata": {},
     "output_type": "execute_result"
    }
   ],
   "source": [
    "blocos[0]"
   ]
  },
  {
   "cell_type": "markdown",
   "metadata": {},
   "source": [
    "Experimente separar a linha do arquivo que vemos acima nos dois valores que ela contem (utilize a célula vazia abaixo; isso não é uma tarefa ainda)."
   ]
  },
  {
   "cell_type": "code",
   "execution_count": 36,
   "metadata": {
    "collapsed": false
   },
   "outputs": [
    {
     "name": "stdout",
     "output_type": "stream",
     "text": [
      "('0.3', ' 1.1238251\\n')\n"
     ]
    }
   ],
   "source": []
  },
  {
   "cell_type": "markdown",
   "metadata": {},
   "source": [
    "Depois que conseguirmos nossos valores em formato texto, precisamos convertê-los para números. O Python nos fornece algumas funções para isso: `int` (para números inteiros), `float` (para números \"reais\" ou ponto flutuante) e `complex` (para números complexos). Por exemplo: "
   ]
  },
  {
   "cell_type": "code",
   "execution_count": 37,
   "metadata": {
    "collapsed": false,
    "scrolled": true
   },
   "outputs": [
    {
     "name": "stdout",
     "output_type": "stream",
     "text": [
      "8889\n"
     ]
    }
   ],
   "source": [
    "valor_em_texto = \"8888\"\n",
    "valor = int(valor_em_texto)\n",
    "print(valor + 1)"
   ]
  },
  {
   "cell_type": "code",
   "execution_count": 38,
   "metadata": {
    "collapsed": false
   },
   "outputs": [
    {
     "name": "stdout",
     "output_type": "stream",
     "text": [
      "2.1\n"
     ]
    }
   ],
   "source": [
    "float_em_texto = \"4.2\"\n",
    "valor = float(float_em_texto)\n",
    "print(valor/2)"
   ]
  },
  {
   "cell_type": "markdown",
   "metadata": {},
   "source": [
    "Por último, podemos tratar a variável `arquivo` retornada por `open` como uma lista das linhas do arquivo. Isso quer dizer que podemos utilizá-la em um `for` como:"
   ]
  },
  {
   "cell_type": "code",
   "execution_count": 42,
   "metadata": {
    "collapsed": false
   },
   "outputs": [
    {
     "name": "stdout",
     "output_type": "stream",
     "text": [
      "240\n"
     ]
    }
   ],
   "source": [
    "arquivo = open('dados.csv')\n",
    "num_linhas = 0\n",
    "for linha in arquivo:\n",
    "    num_linhas = num_linhas + 1    \n",
    "arquivo.close()\n",
    "print(num_linhas)"
   ]
  },
  {
   "cell_type": "markdown",
   "metadata": {},
   "source": [
    "Experimente imprimir todas as linhas do arquivo `README.md` (utilize a célula vazia abaixo; isso não é uma tarefa ainda)."
   ]
  },
  {
   "cell_type": "code",
   "execution_count": 105,
   "metadata": {
    "collapsed": false,
    "scrolled": true
   },
   "outputs": [
    {
     "name": "stdout",
     "output_type": "stream",
     "text": [
      "# Prática de Introdução ao Python II\n",
      "\n",
      "\n",
      "\n",
      "Parte do curso\n",
      "\n",
      "[Matemática Especial I](http://www.leouieda.com/matematica-especial/)\n",
      "\n",
      "da [UERJ](http://www.uerj.br/).\n",
      "\n",
      "\n",
      "\n",
      "Ministrado por [Leonardo Uieda](http://www.leouieda.com/).\n",
      "\n",
      "\n",
      "\n",
      "## Objetivos\n",
      "\n",
      "\n",
      "\n",
      "* Apresentar o Jupyter notebook\n",
      "\n",
      "* Praticar os conceitos de programação com Python aprendidos nas aulas anteriores\n",
      "\n",
      "* Aprender a carregar dados de arquivos\n",
      "\n",
      "\n",
      "\n",
      "## Preparação\n",
      "\n",
      "\n",
      "\n",
      "Nessa prática vamos utilizar o [Jupyter notebook](http://jupyter.org/)\n",
      "\n",
      "para programar em Python. Você não precisarão utilizar editores de texto\n",
      "\n",
      "(como Notepad++) e arquivos `.py`.\n",
      "\n",
      "\n",
      "\n",
      "**Primeiro**, verifique que o Jupyter está instalado junto com\n",
      "\n",
      "seu Anaconda. Para isso, rode o comando abaixo no bash:\n",
      "\n",
      "\n",
      "\n",
      "    $ conda install jupyter\n",
      "\n",
      "\n",
      "\n",
      "**Segundo**, utilize o link enviado por e-mail para criar um repositório para seu grupo.\n",
      "\n",
      "Você precisará logar em sua conta do Github.\n",
      "\n",
      "O repositório não ficará mais em sua conta, e sim na conta compartilhada do\n",
      "\n",
      "LAGEX [github.com/lagex](https://github.com/lagex/).\n",
      "\n",
      "Você também precisará escolher um nome para o seu grupo (minísculo,\n",
      "\n",
      "sem espaço ou caracter especial).\n",
      "\n",
      "Pode colocar o que quiser (recomendo ser conservador para não se\n",
      "\n",
      "atrapalhar depois).\n",
      "\n",
      "\n",
      "\n",
      "**Terceiro**, os outros membros do grupo devem clicar no link também.\n",
      "\n",
      "Cada um deve logar com sua própria conta do Github. Coloquem o nome do grupo\n",
      "\n",
      "que foi criado pelo colega. Isso dará acesso *push* ao repositório para todos\n",
      "\n",
      "vocês.\n",
      "\n",
      "\n",
      "\n",
      "**Quarto**, peguem clones do respotório criado acima para cada membro do grupo.\n",
      "\n",
      "\n",
      "\n",
      "**ATENÇÂO**: Todas as práticas serão feitas em repositórios e manejadas pelo git.\n",
      "\n",
      "Prestem atenção se estão fazendo **commits e push com frequência**.\n",
      "\n",
      "Isso pode evitar muita dor de cabeça no futuro.\n",
      "\n",
      "Também é importante lembrar de **trocar de clones** quando trocar o membro\n",
      "\n",
      "que está trabalhando. Caso contrário, os commits não sairão no seu nome.\n",
      "\n",
      "Quando trocar o membro **deixe o outro amigo digitar**.\n",
      "\n",
      "Não deixe que uma única pessoa faça commits por todos.\n",
      "\n",
      "Professor não é tão cego quanto vocês pensam.\n",
      "\n",
      "\n",
      "\n",
      "**Quinto**, coloque um arquivo no repositório chamado `alunos.txt` com o\n",
      "\n",
      "**nome completo** de cada aluno do grupo.\n",
      "\n",
      "\n",
      "\n",
      "## Jupyter notebooks\n",
      "\n",
      "\n",
      "\n",
      "Os notebooks rodam dentro de um navegador de internet (Firefox, Chrome, Safari, etc).\n",
      "\n",
      "Mas eles **não rodam via internet**. Eles rodam em seu computador.\n",
      "\n",
      "Para utilizar o Jupyter, você precisa iniciar um servidor de notebook\n",
      "\n",
      "no seu computador.\n",
      "\n",
      "Isso soa mais complicado do que realmente é.\n",
      "\n",
      "\n",
      "\n",
      "Para iniciar um servidor, abra o bash e digite:\n",
      "\n",
      "\n",
      "\n",
      "    $ jupyter notebook\n",
      "\n",
      "\n",
      "\n",
      "Espere um pouco até aparecer algo como:\n",
      "\n",
      "\n",
      "\n",
      "    [I 10:50:47.370 NotebookApp] Serving notebooks from local directory: /home/leo\n",
      "\n",
      "    [I 10:50:47.370 NotebookApp] 0 active kernels\n",
      "\n",
      "    [I 10:50:47.370 NotebookApp] The IPython Notebook is running at: http://localhost:8888/\n",
      "\n",
      "    [I 10:50:47.370 NotebookApp] Use Control-C to stop this server and shut down all kernels (twice to skip confirmation).\n",
      "\n",
      "\n",
      "\n",
      "Isso deve abrir o seu navegador padrão também em uma página no endereço\n",
      "\n",
      "[http://127.0.0.1:8888](http://127.0.0.1:8888).\n",
      "\n",
      "Essa página irá te mostrar as pastas que estão em seu computador\n",
      "\n",
      "(a partir da pasta onde você rodou `$ jupyter notebook`).\n",
      "\n",
      "\n",
      "\n",
      "Para abrir um notebook, navegue até seu clone do repositório\n",
      "\n",
      "e abra um dos arquivos `.ipynb`.\n",
      "\n",
      "Comece com o `jupyter-notebook-tour.ipynb`.\n",
      "\n",
      "**Siga as instruções no notebook e fique a vontade para explorar**.\n",
      "\n",
      "Lembre-se que não tem como \"estragar de vez para todo o sempre\"\n",
      "\n",
      "algo que está sob controle de versão com o git.\n",
      "\n",
      "Qualquer coisa, é só pegar outro clone.\n",
      "\n",
      "\n",
      "\n",
      "## Tarefas\n",
      "\n",
      "\n",
      "\n",
      "Após explorar o conteúdo de `jupyter-notebook-tour.ipynb`,\n",
      "\n",
      "siga as instruções em `tarefa-intro-python-2.ipynb`.\n",
      "\n",
      "As tarefas e **suas soluções devem estar contidas nesse notebook**.\n",
      "\n",
      "Por isso, faça commits de suas mudanças ao notebook.\n",
      "\n",
      "\n",
      "\n",
      "## Dicas\n",
      "\n",
      "\n",
      "\n",
      "* Façam muitos **commits**. Quanto mais melhor.\n",
      "\n",
      "* Não se esqueça do **push**.\n",
      "\n",
      "* Utilize **mensagens de commit** descritivas. \"Completei a tarefa 1\" é melhor que\n",
      "\n",
      "  \"mudança\".\n",
      "\n",
      "* Escolha nomes descritivos para **variáveis**. \"temperatura\" é melhor que \"a\".\n",
      "\n",
      "* **Descreva o que (e por que) você fez** em comentários e células de texto.\n",
      "\n",
      "  Isso será muito útil quando você voltar a essa tarefa depois.\n",
      "\n",
      "* Preste atenção aos **detalhes**. Leia as instruções com atenção.\n",
      "\n",
      "\n",
      "\n",
      "## Leitura recomendada\n",
      "\n",
      "\n",
      "\n",
      "O material da lição \"Programming with Python\" versão 4 do\n",
      "\n",
      "[Software Carpentry](http://software-carpentry.org/).\n",
      "\n",
      "Particularmente:\n",
      "\n",
      "\n",
      "\n",
      "* Lists\n",
      "\n",
      "* Input and Output\n",
      "\n",
      "* Strings\n",
      "\n",
      "\n",
      "\n",
      "## Entrega\n",
      "\n",
      "\n",
      "\n",
      "Crie uma Issue em https://github.com/leouieda/matematica-especial/ com:\n",
      "\n",
      "\n",
      "\n",
      "* Título: \"Prática Python 2: Aluno 1, Aluno 2, Aluno 3\"\n",
      "\n",
      "* Indique a qual turma pertece\n",
      "\n",
      "120\n"
     ]
    }
   ],
   "source": [
    "arq = open('README.md')\n",
    "n_lin = 0\n",
    "for i in arq:\n",
    "    n_lin += 1\n",
    "    arq = open('README.md')\n",
    "for e in range(0, n_lin-1, 1):\n",
    "    linha2 = arq.readline()\n",
    "    print(linha2)\n",
    "arq.close()\n",
    "print(n_lin)\n",
    "\n"
   ]
  },
  {
   "cell_type": "markdown",
   "metadata": {},
   "source": [
    "## **IMPORTANTE**: Cada tarefa abaixo deve ser feita por um membro DIFERENTE do grupo. Os outros devem ajudá-lo mas a pessoa digitando deve ser quem está encarregado da tarefa."
   ]
  },
  {
   "cell_type": "markdown",
   "metadata": {},
   "source": [
    "## Tarefa 1\n",
    "\n",
    "* Carregue os dados do arquivo `dados.csv` em duas listas: `tempos` e `dados` (os nomes precisam ser esses!). `tempos` deve conter os valores da primeira coluna e `dados` os da segunda.\n",
    "* Faça um gráfico dos hora x temperatura (lembre-se de utilizar a mágia `%matplotlib inline`).\n",
    "\n",
    "Você pode utilizar quantas células achar necessário para realizar a tarefa (use o menu \"Insert\"). Inclua comentátios para explicar o que você está fazendo."
   ]
  },
  {
   "cell_type": "code",
   "execution_count": 131,
   "metadata": {
    "collapsed": false
   },
   "outputs": [
    {
     "name": "stdout",
     "output_type": "stream",
     "text": [
      "240\n",
      "(['0', '0.1', '0.2', '0.3', '0.4', '0.5', '0.6', '0.7', '0.8', '0.9', '1', '1.1', '1.2', '1.3', '1.4', '1.5', '1.6', '1.7', '1.8', '1.9', '2', '2.1', '2.2', '2.3', '2.4', '2.5', '2.6', '2.7', '2.8', '2.9', '3', '3.1', '3.2', '3.3', '3.4', '3.5', '3.6', '3.7', '3.8', '3.9', '4', '4.1', '4.2', '4.3', '4.4', '4.5', '4.6', '4.7', '4.8', '4.9', '5', '5.1', '5.2', '5.3', '5.4', '5.5', '5.6', '5.7', '5.8', '5.9', '6', '6.1', '6.2', '6.3', '6.4', '6.5', '6.6', '6.7', '6.8', '6.9', '7', '7.1', '7.2', '7.3', '7.4', '7.5', '7.6', '7.7', '7.8', '7.9', '8', '8.1', '8.2', '8.3', '8.4', '8.5', '8.6', '8.7', '8.8', '8.9', '9', '9.1', '9.2', '9.3', '9.4', '9.5', '9.6', '9.7', '9.8', '9.9', '10', '10.1', '10.2', '10.3', '10.4', '10.5', '10.6', '10.7', '10.8', '10.9', '11', '11.1', '11.2', '11.3', '11.4', '11.5', '11.6', '11.7', '11.8', '11.9', '12', '12.1', '12.2', '12.3', '12.4', '12.5', '12.6', '12.7', '12.8', '12.9', '13', '13.1', '13.2', '13.3', '13.4', '13.5', '13.6', '13.7', '13.8', '13.9', '14', '14.1', '14.2', '14.3', '14.4', '14.5', '14.6', '14.7', '14.8', '14.9', '15', '15.1', '15.2', '15.3', '15.4', '15.5', '15.6', '15.7', '15.8', '15.9', '16', '16.1', '16.2', '16.3', '16.4', '16.5', '16.6', '16.7', '16.8', '16.9', '17', '17.1', '17.2', '17.3', '17.4', '17.5', '17.6', '17.7', '17.8', '17.9', '18', '18.1', '18.2', '18.3', '18.4', '18.5', '18.6', '18.7', '18.8', '18.9', '19', '19.1', '19.2', '19.3', '19.4', '19.5', '19.6', '19.7', '19.8', '19.9', '20', '20.1', '20.2', '20.3', '20.4', '20.5', '20.6', '20.7', '20.8', '20.9', '21', '21.1', '21.2', '21.3', '21.4', '21.5', '21.6', '21.7', '21.8', '21.9', '22', '22.1', '22.2', '22.3', '22.4', '22.5', '22.6', '22.7', '22.8', '22.9', '23', '23.1', '23.2', '23.3', '23.4', '23.5', '23.6', '23.7', '23.8'], [' 0\\n', ' 0.61464164\\n', ' 1.0320324\\n', ' 1.1238251\\n', ' 0.87540985\\n', ' 0.39101585\\n', ' -0.14270041\\n', ' -0.52186154\\n', ' -0.59659114\\n', ' -0.32337174\\n', ' 0.21975159\\n', ' 0.86043287\\n', ' 1.3922289\\n', ' 1.6467141\\n', ' 1.5523145\\n', ' 1.1593091\\n', ' 0.62226425\\n', ' 0.14603706\\n', ' -0.085788363\\n', ' 0.024965949\\n', ' 0.45677374\\n', ' 1.0759225\\n', ' 1.6832216\\n', ' 2.0835833\\n', ' 2.1541709\\n', ' 1.8873076\\n', ' 1.3931564\\n', ' 0.8612352\\n', ' 0.49421121\\n', ' 0.43710175\\n', ' 0.72661379\\n', ' 1.2783195\\n', ' 1.9161477\\n', ' 2.4338889\\n', ' 2.6672284\\n', ' 2.5511447\\n', ' 2.1426217\\n', ' 1.6007407\\n', ' 1.1311076\\n', ' 0.91402652\\n', ' 1.0415133\\n', ' 1.48515\\n', ' 2.1060103\\n', ' 2.703189\\n', ' 3.0839824\\n', ' 3.1312036\\n', ' 2.8441177\\n', ' 2.3386969\\n', ' 1.8071066\\n', ' 1.4505748\\n', ' 1.4090961\\n', ' 1.7125255\\n', ' 2.2701481\\n', ' 2.902367\\n', ' 3.4034394\\n', ' 3.613348\\n', ' 3.4736972\\n', ' 3.0481116\\n', ' 2.5000081\\n', ' 2.0355084\\n', ' 1.8314335\\n', ' 1.9735332\\n', ' 2.4265299\\n', ' 3.0464409\\n', ' 3.6308739\\n', ' 3.9897274\\n', ' 4.0115968\\n', ' 3.7026903\\n', ' 3.1846584\\n', ' 2.6520967\\n', ' 2.3045669\\n', ' 2.2768823\\n', ' 2.5920127\\n', ' 3.153059\\n', ' 3.7771014\\n', ' 4.2590973\\n', ' 4.4435073\\n', ' 4.2786283\\n', ' 3.8346536\\n', ' 3.2791511\\n', ' 2.8185258\\n', ' 2.6259153\\n', ' 2.7807066\\n', ' 3.2408029\\n', ' 3.8573278\\n', ' 4.4266312\\n', ' 4.7614286\\n', ' 4.7562241\\n', ' 4.424162\\n', ' 3.8924338\\n', ' 3.3578455\\n', ' 3.0180666\\n', ' 3.0025774\\n', ' 3.3274363\\n', ' 3.8896698\\n', ' 4.5032423\\n', ' 4.9640432\\n', ' 5.1211873\\n', ' 4.9297225\\n', ' 4.4663317\\n', ' 3.9025443\\n', ' 3.4448153\\n', ' 3.2624035\\n', ' 3.4282434\\n', ' 3.8934667\\n', ' 4.5044718\\n', ' 5.0565811\\n', ' 5.3655393\\n', ' 5.3318785\\n', ' 4.9756644\\n', ' 4.4294856\\n', ' 3.8921364\\n', ' 3.5591707\\n', ' 3.5545891\\n', ' 3.8875211\\n', ' 4.4490349\\n', ' 5.05019\\n', ' 5.4880385\\n', ' 5.6165203\\n', ' 5.3974851\\n', ' 4.9140188\\n', ' 4.3414187\\n', ' 3.8859563\\n', ' 3.7128201\\n', ' 3.8884101\\n', ' 4.3571415\\n', ' 4.9608616\\n', ' 5.4940968\\n', ' 5.7758294\\n', ' 5.7127321\\n', ' 5.3317694\\n', ' 4.7707774\\n', ' 4.2303136\\n', ' 3.9035954\\n', ' 3.9090038\\n', ' 4.2487288\\n', ' 4.8080039\\n', ' 5.3951972\\n', ' 5.8087533\\n', ' 5.9076023\\n', ' 5.660439\\n', ' 5.1566584\\n', ' 4.5751275\\n', ' 4.1217012\\n', ' 3.957311\\n', ' 4.1417471\\n', ' 4.6127715\\n', ' 5.2078593\\n', ' 5.720973\\n', ' 5.9745374\\n', ' 5.8814716\\n', ' 5.4756083\\n', ' 4.8998752\\n', ' 4.3563664\\n', ' 4.0357444\\n', ' 4.0506367\\n', ' 4.3962913\\n', ' 4.952237\\n', ' 5.5243671\\n', ' 5.9127468\\n', ' 5.9814558\\n', ' 5.7060695\\n', ' 5.1821911\\n', ' 4.5920549\\n', ' 4.1408664\\n', ' 3.9851183\\n', ' 4.1779235\\n', ' 4.650461\\n', ' 5.2360174\\n', ' 5.7282246\\n', ' 5.9531508\\n', ' 5.8300596\\n', ' 5.3996139\\n', ' 4.8096715\\n', ' 4.2636343\\n', ' 3.9493945\\n', ' 3.9736985\\n', ' 4.3248581\\n', ' 4.8768333\\n', ' 5.4332623\\n', ' 5.7960567\\n', ' 5.8345998\\n', ' 5.5313751\\n', ' 4.988086\\n', ' 4.3901277\\n', ' 3.9418246\\n', ' 3.7950534\\n', ' 3.9961897\\n', ' 4.4699073\\n', ' 5.0454927\\n', ' 5.5164808\\n', ' 5.7127796\\n', ' 5.5600885\\n', ' 5.1058548\\n', ' 4.5026988\\n', ' 3.9551006\\n', ' 3.6479693\\n', ' 3.6820497\\n', ' 4.0387303\\n', ' 4.5865447\\n', ' 5.1270983\\n', ' 5.4643731\\n', ' 5.4732034\\n', ' 5.1430008\\n', ' 4.5814535\\n', ' 3.9769084\\n', ' 3.5325771\\n', ' 3.395549\\n', ' 3.6054095\\n', ' 4.0804126\\n', ' 4.6460377\\n', ' 5.0959559\\n', ' 5.2641073\\n', ' 5.0827113\\n', ' 4.6059455\\n', ' 3.9910206\\n', ' 3.443263\\n', ' 3.1443897\\n', ' 3.18903\\n', ' 3.5516699\\n', ' 4.0955656\\n', ' 4.6205135\\n', ' 4.9327876\\n', ' 4.912815\\n', ' 4.5569469\\n', ' 3.9787347\\n', ' 3.3692636\\n', ' 2.930403\\n', ' 2.8042882\\n', ' 3.0236697\\n', ' 3.5004738\\n', ' 4.0565703\\n', ' 4.4859995\\n', ' 4.6269216\\n', ' 4.4181522\\n', ' 3.9205381\\n', ' 3.2957021\\n', ' 2.749585\\n', ' 2.460506\\n'])\n",
      "23.8, 2.460506\n",
      "\n"
     ]
    },
    {
     "data": {
      "text/plain": [
       "[<matplotlib.lines.Line2D at 0xd96cf98>]"
      ]
     },
     "execution_count": 131,
     "metadata": {},
     "output_type": "execute_result"
    },
    {
     "data": {
      "image/png": "[encoded data removed]",
      "text/plain": [
       "<matplotlib.figure.Figure at 0xa9a8d68>"
      ]
     },
     "metadata": {},
     "output_type": "display_data"
    }
   ],
   "source": [
    "%matplotlib inline\n",
    "arquivo_lido = open('dados.csv')\n",
    "num_lin = 0\n",
    "tempos = []\n",
    "dados = []\n",
    "for i in arquivo_lido:\n",
    "    num_lin += 1\n",
    "print(num_lin)\n",
    "arquivo_lido = open('dados.csv')\n",
    "for e in range(0,num_lin-1,1):\n",
    "    linha = arquivo_lido.readline()\n",
    "    texto = linha.split(',')\n",
    "    tempos.append(texto[0])\n",
    "    dados.append(texto[1])\n",
    "print(tempos, dados)\n",
    "print(linha)\n",
    "import matplotlib\n",
    "import matplotlib.pylab as plt\n",
    "plt.figure()\n",
    "plt.plot(tempos,dados, '-k')\n"
   ]
  },
  {
   "cell_type": "markdown",
   "metadata": {},
   "source": [
    "### Resultado esperado\n",
    "\n",
    "A figura gerada deve ser parecida com:\n",
    "\n",
    "![images/dados.png](images/dados.png)\n",
    "\n",
    "Ao executar a célula abaixo, o resultado deve ser similar a:\n",
    "\n",
    "    Tempos: [0.0, 0.1, 0.2, 0.3, 0.4, 0.5, 0.6, 0.7, 0.8, ...]\n",
    "    Dados: [0.0, 0.61464164, 1.0320324, 1.1238251, 0.87540985, 0.39101585, -0.14270041, ...]"
   ]
  },
  {
   "cell_type": "code",
   "execution_count": 132,
   "metadata": {
    "collapsed": false
   },
   "outputs": [
    {
     "name": "stdout",
     "output_type": "stream",
     "text": [
      "('Tempos:', ['0', '0.1', '0.2', '0.3', '0.4', '0.5', '0.6', '0.7', '0.8', '0.9', '1', '1.1', '1.2', '1.3', '1.4', '1.5', '1.6', '1.7', '1.8', '1.9', '2', '2.1', '2.2', '2.3', '2.4', '2.5', '2.6', '2.7', '2.8', '2.9', '3', '3.1', '3.2', '3.3', '3.4', '3.5', '3.6', '3.7', '3.8', '3.9', '4', '4.1', '4.2', '4.3', '4.4', '4.5', '4.6', '4.7', '4.8', '4.9', '5', '5.1', '5.2', '5.3', '5.4', '5.5', '5.6', '5.7', '5.8', '5.9', '6', '6.1', '6.2', '6.3', '6.4', '6.5', '6.6', '6.7', '6.8', '6.9', '7', '7.1', '7.2', '7.3', '7.4', '7.5', '7.6', '7.7', '7.8', '7.9', '8', '8.1', '8.2', '8.3', '8.4', '8.5', '8.6', '8.7', '8.8', '8.9', '9', '9.1', '9.2', '9.3', '9.4', '9.5', '9.6', '9.7', '9.8', '9.9', '10', '10.1', '10.2', '10.3', '10.4', '10.5', '10.6', '10.7', '10.8', '10.9', '11', '11.1', '11.2', '11.3', '11.4', '11.5', '11.6', '11.7', '11.8', '11.9', '12', '12.1', '12.2', '12.3', '12.4', '12.5', '12.6', '12.7', '12.8', '12.9', '13', '13.1', '13.2', '13.3', '13.4', '13.5', '13.6', '13.7', '13.8', '13.9', '14', '14.1', '14.2', '14.3', '14.4', '14.5', '14.6', '14.7', '14.8', '14.9', '15', '15.1', '15.2', '15.3', '15.4', '15.5', '15.6', '15.7', '15.8', '15.9', '16', '16.1', '16.2', '16.3', '16.4', '16.5', '16.6', '16.7', '16.8', '16.9', '17', '17.1', '17.2', '17.3', '17.4', '17.5', '17.6', '17.7', '17.8', '17.9', '18', '18.1', '18.2', '18.3', '18.4', '18.5', '18.6', '18.7', '18.8', '18.9', '19', '19.1', '19.2', '19.3', '19.4', '19.5', '19.6', '19.7', '19.8', '19.9', '20', '20.1', '20.2', '20.3', '20.4', '20.5', '20.6', '20.7', '20.8', '20.9', '21', '21.1', '21.2', '21.3', '21.4', '21.5', '21.6', '21.7', '21.8', '21.9', '22', '22.1', '22.2', '22.3', '22.4', '22.5', '22.6', '22.7', '22.8', '22.9', '23', '23.1', '23.2', '23.3', '23.4', '23.5', '23.6', '23.7', '23.8'])\n",
      "('Dados:', [' 0\\n', ' 0.61464164\\n', ' 1.0320324\\n', ' 1.1238251\\n', ' 0.87540985\\n', ' 0.39101585\\n', ' -0.14270041\\n', ' -0.52186154\\n', ' -0.59659114\\n', ' -0.32337174\\n', ' 0.21975159\\n', ' 0.86043287\\n', ' 1.3922289\\n', ' 1.6467141\\n', ' 1.5523145\\n', ' 1.1593091\\n', ' 0.62226425\\n', ' 0.14603706\\n', ' -0.085788363\\n', ' 0.024965949\\n', ' 0.45677374\\n', ' 1.0759225\\n', ' 1.6832216\\n', ' 2.0835833\\n', ' 2.1541709\\n', ' 1.8873076\\n', ' 1.3931564\\n', ' 0.8612352\\n', ' 0.49421121\\n', ' 0.43710175\\n', ' 0.72661379\\n', ' 1.2783195\\n', ' 1.9161477\\n', ' 2.4338889\\n', ' 2.6672284\\n', ' 2.5511447\\n', ' 2.1426217\\n', ' 1.6007407\\n', ' 1.1311076\\n', ' 0.91402652\\n', ' 1.0415133\\n', ' 1.48515\\n', ' 2.1060103\\n', ' 2.703189\\n', ' 3.0839824\\n', ' 3.1312036\\n', ' 2.8441177\\n', ' 2.3386969\\n', ' 1.8071066\\n', ' 1.4505748\\n', ' 1.4090961\\n', ' 1.7125255\\n', ' 2.2701481\\n', ' 2.902367\\n', ' 3.4034394\\n', ' 3.613348\\n', ' 3.4736972\\n', ' 3.0481116\\n', ' 2.5000081\\n', ' 2.0355084\\n', ' 1.8314335\\n', ' 1.9735332\\n', ' 2.4265299\\n', ' 3.0464409\\n', ' 3.6308739\\n', ' 3.9897274\\n', ' 4.0115968\\n', ' 3.7026903\\n', ' 3.1846584\\n', ' 2.6520967\\n', ' 2.3045669\\n', ' 2.2768823\\n', ' 2.5920127\\n', ' 3.153059\\n', ' 3.7771014\\n', ' 4.2590973\\n', ' 4.4435073\\n', ' 4.2786283\\n', ' 3.8346536\\n', ' 3.2791511\\n', ' 2.8185258\\n', ' 2.6259153\\n', ' 2.7807066\\n', ' 3.2408029\\n', ' 3.8573278\\n', ' 4.4266312\\n', ' 4.7614286\\n', ' 4.7562241\\n', ' 4.424162\\n', ' 3.8924338\\n', ' 3.3578455\\n', ' 3.0180666\\n', ' 3.0025774\\n', ' 3.3274363\\n', ' 3.8896698\\n', ' 4.5032423\\n', ' 4.9640432\\n', ' 5.1211873\\n', ' 4.9297225\\n', ' 4.4663317\\n', ' 3.9025443\\n', ' 3.4448153\\n', ' 3.2624035\\n', ' 3.4282434\\n', ' 3.8934667\\n', ' 4.5044718\\n', ' 5.0565811\\n', ' 5.3655393\\n', ' 5.3318785\\n', ' 4.9756644\\n', ' 4.4294856\\n', ' 3.8921364\\n', ' 3.5591707\\n', ' 3.5545891\\n', ' 3.8875211\\n', ' 4.4490349\\n', ' 5.05019\\n', ' 5.4880385\\n', ' 5.6165203\\n', ' 5.3974851\\n', ' 4.9140188\\n', ' 4.3414187\\n', ' 3.8859563\\n', ' 3.7128201\\n', ' 3.8884101\\n', ' 4.3571415\\n', ' 4.9608616\\n', ' 5.4940968\\n', ' 5.7758294\\n', ' 5.7127321\\n', ' 5.3317694\\n', ' 4.7707774\\n', ' 4.2303136\\n', ' 3.9035954\\n', ' 3.9090038\\n', ' 4.2487288\\n', ' 4.8080039\\n', ' 5.3951972\\n', ' 5.8087533\\n', ' 5.9076023\\n', ' 5.660439\\n', ' 5.1566584\\n', ' 4.5751275\\n', ' 4.1217012\\n', ' 3.957311\\n', ' 4.1417471\\n', ' 4.6127715\\n', ' 5.2078593\\n', ' 5.720973\\n', ' 5.9745374\\n', ' 5.8814716\\n', ' 5.4756083\\n', ' 4.8998752\\n', ' 4.3563664\\n', ' 4.0357444\\n', ' 4.0506367\\n', ' 4.3962913\\n', ' 4.952237\\n', ' 5.5243671\\n', ' 5.9127468\\n', ' 5.9814558\\n', ' 5.7060695\\n', ' 5.1821911\\n', ' 4.5920549\\n', ' 4.1408664\\n', ' 3.9851183\\n', ' 4.1779235\\n', ' 4.650461\\n', ' 5.2360174\\n', ' 5.7282246\\n', ' 5.9531508\\n', ' 5.8300596\\n', ' 5.3996139\\n', ' 4.8096715\\n', ' 4.2636343\\n', ' 3.9493945\\n', ' 3.9736985\\n', ' 4.3248581\\n', ' 4.8768333\\n', ' 5.4332623\\n', ' 5.7960567\\n', ' 5.8345998\\n', ' 5.5313751\\n', ' 4.988086\\n', ' 4.3901277\\n', ' 3.9418246\\n', ' 3.7950534\\n', ' 3.9961897\\n', ' 4.4699073\\n', ' 5.0454927\\n', ' 5.5164808\\n', ' 5.7127796\\n', ' 5.5600885\\n', ' 5.1058548\\n', ' 4.5026988\\n', ' 3.9551006\\n', ' 3.6479693\\n', ' 3.6820497\\n', ' 4.0387303\\n', ' 4.5865447\\n', ' 5.1270983\\n', ' 5.4643731\\n', ' 5.4732034\\n', ' 5.1430008\\n', ' 4.5814535\\n', ' 3.9769084\\n', ' 3.5325771\\n', ' 3.395549\\n', ' 3.6054095\\n', ' 4.0804126\\n', ' 4.6460377\\n', ' 5.0959559\\n', ' 5.2641073\\n', ' 5.0827113\\n', ' 4.6059455\\n', ' 3.9910206\\n', ' 3.443263\\n', ' 3.1443897\\n', ' 3.18903\\n', ' 3.5516699\\n', ' 4.0955656\\n', ' 4.6205135\\n', ' 4.9327876\\n', ' 4.912815\\n', ' 4.5569469\\n', ' 3.9787347\\n', ' 3.3692636\\n', ' 2.930403\\n', ' 2.8042882\\n', ' 3.0236697\\n', ' 3.5004738\\n', ' 4.0565703\\n', ' 4.4859995\\n', ' 4.6269216\\n', ' 4.4181522\\n', ' 3.9205381\\n', ' 3.2957021\\n', ' 2.749585\\n', ' 2.460506\\n'])\n"
     ]
    }
   ],
   "source": [
    "print(\"Tempos:\", tempos)\n",
    "print(\"Dados:\", dados)"
   ]
  },
  {
   "cell_type": "markdown",
   "metadata": {},
   "source": [
    "## Tarefa 2\n",
    "\n",
    "* Calcule a temperatura média para o dia inteiro e guarde-a em uma variável chamada `media`.\n",
    "* Calcule o desvio padrão da temperatura para o dia inteiro e guarde-o em uma variável chamada `desvio_padrao`.\n",
    "\n",
    "Lembre-se que o desvio padrão é\n",
    "\n",
    "$$\n",
    "\\sigma = \\sqrt{\\sum\\limits_{i=1}^{N}\\frac{ (x_i - x_{media})^2 }{N}}\n",
    "$$\n",
    "\n",
    "em que $x_i$ são os dados, $x_{media}$ é a média e $N$ é o número de dados.\n",
    "\n",
    "**Dica**: Para elevar um número a uma potência, utilize `**`. Por exemplo, `2**4 == 16`."
   ]
  },
  {
   "cell_type": "code",
   "execution_count": null,
   "metadata": {
    "collapsed": false
   },
   "outputs": [],
   "source": [
    "n1 = len(dados)"
   ]
  },
  {
   "cell_type": "markdown",
   "metadata": {},
   "source": [
    "### Resultado esperado\n",
    "\n",
    "As celúlas abaixo comparam a sua média e desvio padrão com os calculados pela biblioteca [numpy](http://numpy.org/).\n",
    "Ambas devem imprimir `True` quando executadas."
   ]
  },
  {
   "cell_type": "code",
   "execution_count": null,
   "metadata": {
    "collapsed": false
   },
   "outputs": [],
   "source": [
    "import numpy as np\n",
    "print(\"Media esta igual?\", np.allclose(media, np.mean(dados)))"
   ]
  },
  {
   "cell_type": "code",
   "execution_count": null,
   "metadata": {
    "collapsed": false
   },
   "outputs": [],
   "source": [
    "print(\"Desvio padrao esta igual?\", np.allclose(desvio_padrao, np.std(dados)))"
   ]
  },
  {
   "cell_type": "markdown",
   "metadata": {},
   "source": [
    "## Tarefa 3\n",
    "\n",
    "* Ache o valor máximo de temperatura medido e guarde-o na variável `maximo`.\n",
    "* Ache o valor mínimo de temperatura medido e guarde-o na variável `minimo`.\n",
    "\n",
    "**Dica**: o Python inclui um valor especial chamado de `None`. Ele é comumente utilizado para marcar que uma variável está \"vazia\" ou não utilizada ainda. Um detalhe desse valor é que não podemos utilizar `==` para checar se uma variável possui o valor `None`. Ao invés disso, devemos utilizar o comando `is`. Por exemplo:\n",
    "\n",
    "    variavel = None\n",
    "    if variavel is None:\n",
    "        print(\"A variavel eh None\")\n",
    "        variavel = 20\n",
    "        "
   ]
  },
  {
   "cell_type": "code",
   "execution_count": null,
   "metadata": {
    "collapsed": false
   },
   "outputs": [],
   "source": []
  },
  {
   "cell_type": "markdown",
   "metadata": {},
   "source": [
    "### Resultado esperado\n",
    "\n",
    "As celúlas abaixo comparam os valores máximo e mínimo com os calculados pelas funções `max` e `min` do Python.\n",
    "Ambas devem imprimir `True` quando executadas."
   ]
  },
  {
   "cell_type": "code",
   "execution_count": null,
   "metadata": {
    "collapsed": false
   },
   "outputs": [],
   "source": [
    "print(\"Maximo esta igual?\", np.allclose(maximo, max(dados)))"
   ]
  },
  {
   "cell_type": "code",
   "execution_count": null,
   "metadata": {
    "collapsed": false
   },
   "outputs": [],
   "source": [
    "print(\"Minimo esta igual?\", np.allclose(minimo, min(dados)))"
   ]
  },
  {
   "cell_type": "markdown",
   "metadata": {},
   "source": [
    "## Tarefa 4\n",
    "\n",
    "* Calcule a temperatura média por hora e guarde-as em uma lista chamada `media_hora`.\n",
    "* Faça um gráfico dos dados originais juntamente com as médias que você calculou.\n",
    "\n",
    "**Dica 1**: quantos dados existem por hora?\n",
    "\n",
    "**Dica 2**: veja esse [exemplo de como colocar uma legenda no grafico](http://matplotlib.org/examples/api/legend_demo.html)."
   ]
  },
  {
   "cell_type": "code",
   "execution_count": null,
   "metadata": {
    "collapsed": false
   },
   "outputs": [],
   "source": []
  },
  {
   "cell_type": "markdown",
   "metadata": {},
   "source": [
    "### Resultado esperado\n",
    "\n",
    "A figura gerada deve ser parecida com:\n",
    "\n",
    "![images/media-por-hora.png](images/media-por-hora.png)"
   ]
  },
  {
   "cell_type": "markdown",
   "metadata": {},
   "source": [
    "## Tarefa Bônus\n",
    "\n",
    "Essa tarefa vale um bônus de 0.5 pontos na nota da prática.\n",
    "\n",
    "* Calcule os máximos de temperatura por hora.\n",
    "* Calcule os mínimos de temperatura por hora.\n",
    "* Faça um gráfico com: (1) os dados originais (2) as médias por hora (3) os máximos por hora (4) os mínimos por hora."
   ]
  },
  {
   "cell_type": "code",
   "execution_count": null,
   "metadata": {
    "collapsed": false
   },
   "outputs": [],
   "source": []
  },
  {
   "cell_type": "markdown",
   "metadata": {},
   "source": [
    "### Resultado esperado\n",
    "\n",
    "A figura gerada deve ser parecida com:\n",
    "\n",
    "![images/media-maximo-minimo-por-hora.png](images/media-maximo-minimo-por-hora.png)"
   ]
  }
 ],
 "metadata": {
  "kernelspec": {
   "display_name": "Python 2",
   "language": "python",
   "name": "python2"
  },
  "language_info": {
   "codemirror_mode": {
    "name": "ipython",
    "version": 2
   },
   "file_extension": ".py",
   "mimetype": "text/x-python",
   "name": "python",
   "nbconvert_exporter": "python",
   "pygments_lexer": "ipython2",
   "version": "2.7.10"
  }
 },
 "nbformat": 4,
 "nbformat_minor": 0
}
